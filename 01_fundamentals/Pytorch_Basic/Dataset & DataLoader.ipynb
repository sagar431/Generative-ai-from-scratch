{
 "cells": [
  {
   "cell_type": "code",
   "execution_count": null,
   "id": "7576134c-9620-4a16-9180-45e76bc108f1",
   "metadata": {},
   "outputs": [],
   "source": [
    "#There are 3 parts of this things Data,Datasetclass,Datalaoder class ->"
   ]
  },
  {
   "cell_type": "code",
   "execution_count": 2,
   "id": "53253b91-d6fd-4ec2-8ec7-e7ff7b9cc40e",
   "metadata": {},
   "outputs": [],
   "source": [
    "from sklearn.datasets import make_classification\n",
    "import torch"
   ]
  },
  {
   "cell_type": "code",
   "execution_count": 3,
   "id": "df46eb76-55bd-49b3-9ca0-77713d1c75c2",
   "metadata": {},
   "outputs": [],
   "source": [
    "X,y=make_classification(\n",
    "    n_samples=10,\n",
    "    n_features=2,\n",
    "    n_informative=2,\n",
    "    n_redundant=0,\n",
    "    n_classes=2,\n",
    "    random_state=42\n",
    ")"
   ]
  },
  {
   "cell_type": "code",
   "execution_count": 4,
   "id": "9be677a7-74a7-4655-be66-1d85b623971c",
   "metadata": {},
   "outputs": [
    {
     "data": {
      "text/plain": [
       "array([[ 1.06833894, -0.97007347],\n",
       "       [-1.14021544, -0.83879234],\n",
       "       [-2.8953973 ,  1.97686236],\n",
       "       [-0.72063436, -0.96059253],\n",
       "       [-1.96287438, -0.99225135],\n",
       "       [-0.9382051 , -0.54304815],\n",
       "       [ 1.72725924, -1.18582677],\n",
       "       [ 1.77736657,  1.51157598],\n",
       "       [ 1.89969252,  0.83444483],\n",
       "       [-0.58723065, -1.97171753]])"
      ]
     },
     "execution_count": 4,
     "metadata": {},
     "output_type": "execute_result"
    }
   ],
   "source": [
    "X"
   ]
  },
  {
   "cell_type": "code",
   "execution_count": 5,
   "id": "aaa2f2f9-f6c3-42fa-8967-371e68831cbb",
   "metadata": {},
   "outputs": [
    {
     "data": {
      "text/plain": [
       "(10, 2)"
      ]
     },
     "execution_count": 5,
     "metadata": {},
     "output_type": "execute_result"
    }
   ],
   "source": [
    "X.shape"
   ]
  },
  {
   "cell_type": "code",
   "execution_count": 6,
   "id": "039d520d-0536-4d56-a8bb-36a98ee7db89",
   "metadata": {},
   "outputs": [
    {
     "data": {
      "text/plain": [
       "(10,)"
      ]
     },
     "execution_count": 6,
     "metadata": {},
     "output_type": "execute_result"
    }
   ],
   "source": [
    "y.shape"
   ]
  },
  {
   "cell_type": "code",
   "execution_count": 7,
   "id": "a25f00f9-995b-49ad-b79a-8504a4323c68",
   "metadata": {},
   "outputs": [],
   "source": [
    "X=torch.tensor(X,dtype=torch.float32)\n",
    "y=torch.tensor(y,dtype=torch.long)\n"
   ]
  },
  {
   "cell_type": "code",
   "execution_count": 8,
   "id": "7e368e60-b0e9-4f25-95a6-67d31b80b77e",
   "metadata": {},
   "outputs": [
    {
     "data": {
      "text/plain": [
       "tensor([[ 1.0683, -0.9701],\n",
       "        [-1.1402, -0.8388],\n",
       "        [-2.8954,  1.9769],\n",
       "        [-0.7206, -0.9606],\n",
       "        [-1.9629, -0.9923],\n",
       "        [-0.9382, -0.5430],\n",
       "        [ 1.7273, -1.1858],\n",
       "        [ 1.7774,  1.5116],\n",
       "        [ 1.8997,  0.8344],\n",
       "        [-0.5872, -1.9717]])"
      ]
     },
     "execution_count": 8,
     "metadata": {},
     "output_type": "execute_result"
    }
   ],
   "source": [
    "X"
   ]
  },
  {
   "cell_type": "code",
   "execution_count": 9,
   "id": "e931c10a-b51a-4668-afdc-e19689d22488",
   "metadata": {},
   "outputs": [],
   "source": [
    "from torch.utils.data import Dataset,DataLoader"
   ]
  },
  {
   "cell_type": "code",
   "execution_count": 11,
   "id": "00634849-5dab-4baa-9f45-c0ffd59166d0",
   "metadata": {},
   "outputs": [],
   "source": [
    "class CustomDataset(Dataset):\n",
    "    def __init__(self,features,labels):\n",
    "        self.features=features\n",
    "        self.lables=labels\n",
    "\n",
    "    def __len__(self):\n",
    "\n",
    "        return self.features.shape[0]\n",
    "\n",
    "    def __getitem__(self,index):\n",
    "            return self.features[index],self.lables[index]\n",
    "    "
   ]
  },
  {
   "cell_type": "code",
   "execution_count": 12,
   "id": "b963283d-ad10-4aa3-a03d-4d05e324fa8e",
   "metadata": {},
   "outputs": [],
   "source": [
    "dataset=CustomDataset(X,y)"
   ]
  },
  {
   "cell_type": "code",
   "execution_count": 13,
   "id": "957a22f6-b87f-451c-9870-0e3215e4534d",
   "metadata": {},
   "outputs": [
    {
     "data": {
      "text/plain": [
       "10"
      ]
     },
     "execution_count": 13,
     "metadata": {},
     "output_type": "execute_result"
    }
   ],
   "source": [
    "len(dataset)"
   ]
  },
  {
   "cell_type": "code",
   "execution_count": 14,
   "id": "ddd3a1f8-b457-4ae9-923c-cfb018265f12",
   "metadata": {},
   "outputs": [],
   "source": [
    "datalaoder=DataLoader(dataset,batch_size=2,shuffle=True)"
   ]
  },
  {
   "cell_type": "code",
   "execution_count": 16,
   "id": "590a9ab3-5519-4c06-bcdc-aeacd95a3d6a",
   "metadata": {},
   "outputs": [
    {
     "name": "stdout",
     "output_type": "stream",
     "text": [
      "tensor([[ 1.7774,  1.5116],\n",
      "        [-1.1402, -0.8388]])\n",
      "tensor([1, 0])\n",
      "__________________________________________________\n",
      "tensor([[-0.5872, -1.9717],\n",
      "        [-2.8954,  1.9769]])\n",
      "tensor([0, 0])\n",
      "__________________________________________________\n",
      "tensor([[-0.9382, -0.5430],\n",
      "        [-1.9629, -0.9923]])\n",
      "tensor([1, 0])\n",
      "__________________________________________________\n",
      "tensor([[-0.7206, -0.9606],\n",
      "        [ 1.7273, -1.1858]])\n",
      "tensor([0, 1])\n",
      "__________________________________________________\n",
      "tensor([[ 1.8997,  0.8344],\n",
      "        [ 1.0683, -0.9701]])\n",
      "tensor([1, 1])\n",
      "__________________________________________________\n"
     ]
    }
   ],
   "source": [
    "for batch_features,batch_labels in datalaoder:\n",
    "    print(batch_features)\n",
    "    print(batch_labels)\n",
    "    print(\"_\"*50)"
   ]
  },
  {
   "cell_type": "code",
   "execution_count": null,
   "id": "425e10c5-7ad2-41c4-826b-61e339a5d9fe",
   "metadata": {},
   "outputs": [],
   "source": []
  }
 ],
 "metadata": {
  "kernelspec": {
   "display_name": "Python 3 (ipykernel)",
   "language": "python",
   "name": "python3"
  },
  "language_info": {
   "codemirror_mode": {
    "name": "ipython",
    "version": 3
   },
   "file_extension": ".py",
   "mimetype": "text/x-python",
   "name": "python",
   "nbconvert_exporter": "python",
   "pygments_lexer": "ipython3",
   "version": "3.12.8"
  }
 },
 "nbformat": 4,
 "nbformat_minor": 5
}
